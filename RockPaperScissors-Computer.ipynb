{
 "cells": [
  {
   "cell_type": "code",
   "execution_count": null,
   "id": "9f9b19f1",
   "metadata": {},
   "outputs": [],
   "source": [
    "import random\n",
    "\n",
    "user = input(\"Choose one-'R' for rock, 'P' for paper, or 'S' for scissors: \").upper()\n",
    "choices = [\"R\", \"P\", \"S\"]\n",
    "computer = random.choice(choices)\n",
    "\n",
    "if user == computer:\n",
    "    print(\"It\\'s a draw!\")\n",
    "    \n",
    "elif user == \"R\": \n",
    "    if computer == \"S\":\n",
    "        print(\"Congrats! You win!\")\n",
    "    else: \n",
    "        print(\"Too bad! Computer wins!\")\n",
    "elif user == \"S\":\n",
    "    if computer == \"P\":\n",
    "        print(\"Congrats! You win!\")\n",
    "    else: \n",
    "        print(\"Too bad! Computer wins!\")\n",
    "elif user == \"P\":\n",
    "    if computer == \"R\":\n",
    "        print(\"Congrats! You win!\")\n",
    "    else:\n",
    "        print(\"Too bad! Computer wins!\")"
   ]
  }
 ],
 "metadata": {
  "kernelspec": {
   "display_name": "Python 3 (ipykernel)",
   "language": "python",
   "name": "python3"
  },
  "language_info": {
   "codemirror_mode": {
    "name": "ipython",
    "version": 3
   },
   "file_extension": ".py",
   "mimetype": "text/x-python",
   "name": "python",
   "nbconvert_exporter": "python",
   "pygments_lexer": "ipython3",
   "version": "3.12.1"
  }
 },
 "nbformat": 4,
 "nbformat_minor": 5
}
